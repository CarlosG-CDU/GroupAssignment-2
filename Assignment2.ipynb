{
  "nbformat": 4,
  "nbformat_minor": 0,
  "metadata": {
    "colab": {
      "provenance": [],
      "authorship_tag": "ABX9TyMJRhmyansC6yj3VKhUHDlP",
      "include_colab_link": true
    },
    "kernelspec": {
      "name": "python3",
      "display_name": "Python 3"
    },
    "language_info": {
      "name": "python"
    }
  },
  "cells": [
    {
      "cell_type": "markdown",
      "metadata": {
        "id": "view-in-github",
        "colab_type": "text"
      },
      "source": [
        "<a href=\"https://colab.research.google.com/github/CarlosG-CDU/GroupAssignment-2/blob/main/Assignment2.ipynb\" target=\"_parent\"><img src=\"https://colab.research.google.com/assets/colab-badge.svg\" alt=\"Open In Colab\"/></a>"
      ]
    },
    {
      "cell_type": "code",
      "execution_count": 24,
      "metadata": {
        "colab": {
          "base_uri": "https://localhost:8080/",
          "height": 408
        },
        "id": "OcMH-oC-ZsWm",
        "outputId": "0117ebaa-8941-4e9d-c0e9-d1284248180b"
      },
      "outputs": [
        {
          "output_type": "stream",
          "name": "stdout",
          "text": [
            "Enter the value for shift 1: 2\n",
            "Enter the value for shift 2: 2\n",
            "lmnop\n"
          ]
        },
        {
          "output_type": "error",
          "ename": "IndexError",
          "evalue": "string index out of range",
          "traceback": [
            "\u001b[0;31m---------------------------------------------------------------------------\u001b[0m",
            "\u001b[0;31mIndexError\u001b[0m                                Traceback (most recent call last)",
            "\u001b[0;32m/tmp/ipython-input-3004501878.py\u001b[0m in \u001b[0;36m<cell line: 0>\u001b[0;34m()\u001b[0m\n\u001b[1;32m    156\u001b[0m \u001b[0;34m\u001b[0m\u001b[0m\n\u001b[1;32m    157\u001b[0m \u001b[0;34m\u001b[0m\u001b[0m\n\u001b[0;32m--> 158\u001b[0;31m \u001b[0mmain\u001b[0m\u001b[0;34m(\u001b[0m\u001b[0;34m)\u001b[0m\u001b[0;34m\u001b[0m\u001b[0;34m\u001b[0m\u001b[0m\n\u001b[0m\u001b[1;32m    159\u001b[0m \u001b[0;34m\u001b[0m\u001b[0m\n\u001b[1;32m    160\u001b[0m \u001b[0;34m\u001b[0m\u001b[0m\n",
            "\u001b[0;32m/tmp/ipython-input-3004501878.py\u001b[0m in \u001b[0;36mmain\u001b[0;34m()\u001b[0m\n\u001b[1;32m      2\u001b[0m   \u001b[0mshift1\u001b[0m \u001b[0;34m=\u001b[0m \u001b[0mint\u001b[0m\u001b[0;34m(\u001b[0m\u001b[0minput\u001b[0m\u001b[0;34m(\u001b[0m\u001b[0;34m\"Enter the value for shift 1: \"\u001b[0m\u001b[0;34m)\u001b[0m\u001b[0;34m)\u001b[0m\u001b[0;34m\u001b[0m\u001b[0;34m\u001b[0m\u001b[0m\n\u001b[1;32m      3\u001b[0m   \u001b[0mshift2\u001b[0m \u001b[0;34m=\u001b[0m \u001b[0mint\u001b[0m\u001b[0;34m(\u001b[0m\u001b[0minput\u001b[0m\u001b[0;34m(\u001b[0m\u001b[0;34m\"Enter the value for shift 2: \"\u001b[0m\u001b[0;34m)\u001b[0m\u001b[0;34m)\u001b[0m\u001b[0;34m\u001b[0m\u001b[0;34m\u001b[0m\u001b[0m\n\u001b[0;32m----> 4\u001b[0;31m   \u001b[0mencrypted_text\u001b[0m \u001b[0;34m=\u001b[0m \u001b[0mencrypt\u001b[0m\u001b[0;34m(\u001b[0m\u001b[0mshift1\u001b[0m\u001b[0;34m,\u001b[0m \u001b[0mshift2\u001b[0m\u001b[0;34m)\u001b[0m   \u001b[0;31m#capture the return value for later use\u001b[0m\u001b[0;34m\u001b[0m\u001b[0;34m\u001b[0m\u001b[0m\n\u001b[0m\u001b[1;32m      5\u001b[0m   \u001b[0;31m#print(\"Encrypted text: \", encrypted_text)\u001b[0m\u001b[0;34m\u001b[0m\u001b[0;34m\u001b[0m\u001b[0m\n\u001b[1;32m      6\u001b[0m   \u001b[0;31m#print(\"Shift 1 is: \", shift1)\u001b[0m\u001b[0;34m\u001b[0m\u001b[0;34m\u001b[0m\u001b[0m\n",
            "\u001b[0;32m/tmp/ipython-input-3004501878.py\u001b[0m in \u001b[0;36mencrypt\u001b[0;34m(shift1, shift2)\u001b[0m\n\u001b[1;32m     53\u001b[0m             \u001b[0;32mif\u001b[0m \u001b[0mchr\u001b[0m \u001b[0;32min\u001b[0m \u001b[0mlow_a_m\u001b[0m\u001b[0;34m:\u001b[0m\u001b[0;34m\u001b[0m\u001b[0;34m\u001b[0m\u001b[0m\n\u001b[1;32m     54\u001b[0m                 \u001b[0mi\u001b[0m \u001b[0;34m=\u001b[0m \u001b[0mlow_a_m\u001b[0m\u001b[0;34m.\u001b[0m\u001b[0mindex\u001b[0m\u001b[0;34m(\u001b[0m\u001b[0mchr\u001b[0m\u001b[0;34m)\u001b[0m\u001b[0;34m\u001b[0m\u001b[0;34m\u001b[0m\u001b[0m\n\u001b[0;32m---> 55\u001b[0;31m                 \u001b[0mout\u001b[0m\u001b[0;34m.\u001b[0m\u001b[0mappend\u001b[0m\u001b[0;34m(\u001b[0m\u001b[0mlow_a_m\u001b[0m\u001b[0;34m[\u001b[0m\u001b[0mi\u001b[0m \u001b[0;34m+\u001b[0m \u001b[0;34m(\u001b[0m\u001b[0mshift1\u001b[0m \u001b[0;34m*\u001b[0m \u001b[0mshift2\u001b[0m\u001b[0;34m)\u001b[0m \u001b[0;34m%\u001b[0m\u001b[0;36m13\u001b[0m\u001b[0;34m]\u001b[0m\u001b[0;34m)\u001b[0m\u001b[0;34m\u001b[0m\u001b[0;34m\u001b[0m\u001b[0m\n\u001b[0m\u001b[1;32m     56\u001b[0m             \u001b[0;32melif\u001b[0m \u001b[0mchr\u001b[0m \u001b[0;32min\u001b[0m \u001b[0mlow_n_z\u001b[0m\u001b[0;34m:\u001b[0m\u001b[0;34m\u001b[0m\u001b[0;34m\u001b[0m\u001b[0m\n\u001b[1;32m     57\u001b[0m                 \u001b[0mi\u001b[0m \u001b[0;34m=\u001b[0m \u001b[0mlow_n_z\u001b[0m\u001b[0;34m.\u001b[0m\u001b[0mindex\u001b[0m\u001b[0;34m(\u001b[0m\u001b[0mchr\u001b[0m\u001b[0;34m)\u001b[0m\u001b[0;34m\u001b[0m\u001b[0;34m\u001b[0m\u001b[0m\n",
            "\u001b[0;31mIndexError\u001b[0m: string index out of range"
          ]
        }
      ],
      "source": [
        "\n",
        "\n",
        "def main():\n",
        "  shift1 = int(input(\"Enter the value for shift 1: \"))\n",
        "  shift2 = int(input(\"Enter the value for shift 2: \"))\n",
        "  encrypted_text = encrypt(shift1, shift2)   #capture the return value for later use\n",
        "  #print(\"Encrypted text: \", encrypted_text)\n",
        "  #print(\"Shift 1 is: \", shift1)\n",
        "  #print(\"Shift 2 is: \", shift2)\n",
        "  #decrypt(encrypted_text, shift1, shift2) this wont work we shouldnt pass encrypted\n",
        "  decrypt(shift1, shift2)\n",
        "\n",
        "##############################################\n",
        "# ENCRYPTION FUNCTION BELOW\n",
        "##############################################\n",
        "\n",
        "def encrypt(shift1, shift2):\n",
        "    #print(\"Shift1 = \", shift1)\n",
        "    #print(\"Shift2 = \", shift2)\n",
        "    #Read .txt file raw_text.txt\n",
        "    #/content/raw_text.txt\n",
        "    file_path = \"/content/raw_text.txt\"\n",
        "\n",
        "    try:                                      #https://www.w3schools.com/python/python_file_open.asp\n",
        "        with open(file_path, 'r') as file:\n",
        "            content = file.read()\n",
        "            #print(\"File contents:\")\n",
        "            #print(content)\n",
        "    except FileNotFoundError:\n",
        "        print(f\"Error: The file at {file_path} was not found.\")\n",
        "        return\"\"\n",
        "\n",
        "\n",
        "    file_path = \"/content/raw_text.txt\"\n",
        "    file = open(\"raw_text.txt\", \"r\")\n",
        "    content = file.read()\n",
        "    print(content)\n",
        "    file.close()\n",
        "\n",
        "\n",
        "    #find lower case letters a-z and upper case A-Z\n",
        "    #do nothing if not a letter\n",
        "    lowercase = \"abcdefghijklmnopqrstuvwxyz\"\n",
        "    uppercase = \"ABCDEFGHIJKLMNOPQRSTUVWXYZ\"\n",
        "    low_a_m = \"abcdefghijklm\"\n",
        "    low_n_z = \"nopqrstuvwxyz\"\n",
        "    uppr_A_M = \"ABCDEFGHIJKLM\"\n",
        "    uppr_N_Z = \"NOPQRSTUVWXYZ\"\n",
        "\n",
        "    encrypted_text = \"\"\n",
        "    out = []\n",
        "\n",
        "    for chr in content:\n",
        "        if chr in lowercase:\n",
        "            if chr in low_a_m:\n",
        "                i = low_a_m.index(chr)\n",
        "                out.append(low_a_m[i + (shift1 * shift2) %13])\n",
        "            elif chr in low_n_z:\n",
        "                i = low_n_z.index(chr)\n",
        "                out.append(low_n_z[i + (shift1 + shift2) %13])\n",
        "            elif chr in uppr_A_M:\n",
        "                i = uppr_A_M.index(chr)\n",
        "                out.append(uppr_A_M[i - (shift1) % 13])\n",
        "            elif chr in uppr_N_Z:\n",
        "                i = uppr_N_Z.index(chr)\n",
        "                out.append(uppr_N_Z[i + (shift2 * shift2) % 13])\n",
        "            else:   #its either a space, spec char or number. allow to fall through\n",
        "                out.append(chr)\n",
        "\n",
        "\n",
        "    #return encrypted_text #used for debugging\n",
        "    #return shift1, shift2 #use these later to decrypt\n",
        "\n",
        "    #Make new file with the encrypted text\n",
        "    output_file_path = \"/content/encrypted_text.txt\"    #save to this path name\n",
        "    try:\n",
        "        with open(output_file_path, 'w') as output_file:    #set to write\n",
        "            output_file.write(encrypted_text)\n",
        "        print(f\"Encrypted text has been written to {output_file_path}\")\n",
        "    except FileNotFoundError:\n",
        "        print(f\"Error: The file at {file_path} was not found.\")\n",
        "        #return\"\"\n",
        "\n",
        "###############################################\n",
        "# DECRYPTION FUNCTION BELOW\n",
        "###############################################\n",
        "#def decrypt(encrypted_text, shift1, shift2):\n",
        "def decrypt(shift1, shift2):\n",
        "  print(\"Shift 1 is: \", shift1)\n",
        "  print(\"Shift 2 is: \", shift2)\n",
        "\n",
        "  file_path = \"/content/encrypted_text.txt\"\n",
        "  try:                                      #https://www.w3schools.com/python/python_file_open.asp\n",
        "      with open(file_path, 'r') as file:\n",
        "          encrypted_content = file.read()\n",
        "            #print(\"File contents:\")\n",
        "            #print(content)\n",
        "  except FileNotFoundError:\n",
        "      print(f\"Error: The file at {file_path} was not found.\")\n",
        "      return\"\"\n",
        "\n",
        "\n",
        "  file_path = \"/content/encrypted_text.txt\"\n",
        "  file = open(\"encrypted_text.txt\", \"r\")\n",
        "  encrypted_content = file.read()\n",
        "  print(encrypted_content)\n",
        "  file.close()\n",
        "\n",
        "    #find lower case letters a-z and upper case A-Z\n",
        "    #do nothing if not a letter\n",
        "  lowercase = \"abcdefghijklmnopqrstuvwxyz\"\n",
        "  uppercase = \"ABCDEFGHIJKLMNOPQRSTUVWXYZ\"\n",
        "  low_a_m = \"abcdefghijklm\"\n",
        "  low_n_z = \"nopqrstuvwxyz\"\n",
        "  uppr_A_M = \"ABCDEFGHIJKLM\"\n",
        "  uppr_N_Z = \"NOPQRSTUVWXYZ\"\n",
        "\n",
        "  decrypted_text = \"\"\n",
        "\n",
        "  for chr in encrypted_content:\n",
        "      if chr in lowercase:\n",
        "          if chr in low_a_m:\n",
        "              index = (lowercase.index(chr) + (shift1 * shift2)) % 26 #stay inside a boundarty of 25. Will need to wrap around\n",
        "              encrypted_chr = lowercase[index]\n",
        "                #print(chr)\n",
        "          else: #where sitting between n-z\n",
        "              index = (lowercase.index(chr) - (shift1 + shift2)) % 26\n",
        "              encrypted_chr = lowercase[index]\n",
        "                #print(chr)\n",
        "      elif chr in uppercase:\n",
        "          if chr in uppr_A_M:\n",
        "              index = (uppercase.index(chr) - shift1) % 26\n",
        "              encrypted_chr = uppercase[index]\n",
        "                #print(chr)\n",
        "          else: # else N-Z\n",
        "              index = (uppercase.index(chr) + (shift2 * shift2)) % 26\n",
        "              encrypted_chr = uppercase[index]\n",
        "                #print(chr)\n",
        "\n",
        "      else: # its either a space, spec char or number. allow to fall through\n",
        "          encrypted_chr = chr\n",
        "      decrypted_text +=encrypted_chr\n",
        "\n",
        "    #return encrypted_text #used for debugging\n",
        "    #return shift1, shift2 #use these later to decrypt\n",
        "\n",
        "    #Make new file with the encrypted text\n",
        "  output_file_path = \"/content/decrypted_text.txt\"    #save to this path name\n",
        "  try:\n",
        "      with open(output_file_path, 'w') as output_file:    #set to write\n",
        "          output_file.write(decrypted_text)\n",
        "      print(f\"Encrypted text has been written to {output_file_path}\")\n",
        "  except FileNotFoundError:\n",
        "      print(f\"Error: The file at {file_path} was not found.\")\n",
        "      #return\"\"\n",
        "\n",
        "\n",
        "\n",
        "\n",
        "main()\n",
        "\n",
        "\n",
        "\n",
        "\n",
        "\n",
        "\n"
      ]
    },
    {
      "cell_type": "code",
      "source": [
        "from google.colab import drive\n",
        "drive.mount('/content/drive')"
      ],
      "metadata": {
        "colab": {
          "base_uri": "https://localhost:8080/"
        },
        "id": "lMr7rGANZX_C",
        "outputId": "e2b672ec-c251-42f9-bde2-626bcb58c568"
      },
      "execution_count": null,
      "outputs": [
        {
          "output_type": "stream",
          "name": "stdout",
          "text": [
            "Drive already mounted at /content/drive; to attempt to forcibly remount, call drive.mount(\"/content/drive\", force_remount=True).\n"
          ]
        }
      ]
    }
  ]
}
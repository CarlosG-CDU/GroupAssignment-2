{
  "nbformat": 4,
  "nbformat_minor": 0,
  "metadata": {
    "colab": {
      "provenance": [],
      "authorship_tag": "ABX9TyNvBtIO8lVO+afGqzQQyUbq",
      "include_colab_link": true
    },
    "kernelspec": {
      "name": "python3",
      "display_name": "Python 3"
    },
    "language_info": {
      "name": "python"
    }
  },
  "cells": [
    {
      "cell_type": "markdown",
      "metadata": {
        "id": "view-in-github",
        "colab_type": "text"
      },
      "source": [
        "<a href=\"https://colab.research.google.com/github/CarlosG-CDU/GroupAssignment-2/blob/main/Assignment2.ipynb\" target=\"_parent\"><img src=\"https://colab.research.google.com/assets/colab-badge.svg\" alt=\"Open In Colab\"/></a>"
      ]
    },
    {
      "cell_type": "code",
      "execution_count": 58,
      "metadata": {
        "colab": {
          "base_uri": "https://localhost:8080/"
        },
        "id": "OcMH-oC-ZsWm",
        "outputId": "7ea4b794-dce6-4182-9884-b2c25486200c"
      },
      "outputs": [
        {
          "output_type": "stream",
          "name": "stdout",
          "text": [
            "Enter the value for shift 1: 1\n",
            "Enter the value for shift 2: 1\n",
            "Encrypted text:  bZcA12lOmP\n"
          ]
        }
      ],
      "source": [
        "\n",
        "\n",
        "def main():\n",
        "  shift1 = int(input(\"Enter the value for shift 1: \"))\n",
        "  shift2 = int(input(\"Enter the value for shift 2: \"))\n",
        "  encrypted_text = encrypt(shift1, shift2)   #capturn the return value for later use\n",
        "  print(\"Encrypted text: \", encrypted_text)\n",
        "\n",
        "\n",
        "\n",
        "\n",
        "\n",
        "def encrypt(shift1, shift2):\n",
        "\n",
        "    #Read .txt file raw_text.txt\n",
        "    #/content/raw_text.txt\n",
        "    file_path = \"/content/raw_text.txt\"\n",
        "\n",
        "    try:\n",
        "        with open(file_path, 'r') as file:\n",
        "            content = file.read()\n",
        "            #print(\"File contents:\")\n",
        "            #print(content)\n",
        "    except FileNotFoundError:\n",
        "        print(f\"Error: The file at {file_path} was not found.\")\n",
        "        return\"\"\n",
        "\n",
        "    #find lower case letters a-z and upper case A-Z\n",
        "    #do nothing if not a letter\n",
        "    lowercase = \"abcdefghijklmnopqrstuvwxyz\"\n",
        "    uppercase = \"ABCDEFGHIJKLMNOPQRSTUVWXYZ\"\n",
        "    low_a_m = \"abcdefghijklm\"\n",
        "    low_n_z = \"nopqrstuvwxyz\"\n",
        "    uppr_A_M = \"ABCDEFGHIJKLM\"\n",
        "    uppr_N_Z = \"NOPQRSTUVWXYZ\"\n",
        "\n",
        "    encrypted_text = \"\"\n",
        "\n",
        "    for chr in content:\n",
        "        if chr in lowercase:\n",
        "            if chr in low_a_m:\n",
        "                index = (lowercase.index(chr) + (shift1 * shift2)) % 26\n",
        "                encrypted_chr = lowercase[index]\n",
        "                #print(chr)\n",
        "            else: #where sitting between n-z\n",
        "                index = (lowercase.index(chr) - (shift1 + shift2)) % 26\n",
        "                encrypted_chr = lowercase[index]\n",
        "                #print(chr)\n",
        "        elif chr in uppercase:\n",
        "            if chr in uppr_A_M:\n",
        "                index = (uppercase.index(chr) - shift1) % 26\n",
        "                encrypted_chr = uppercase[index]\n",
        "                #print(chr)\n",
        "            else: # else N-Z\n",
        "                index = (uppercase.index(chr) + (shift2 * shift2)) % 26\n",
        "                encrypted_chr = uppercase[index]\n",
        "                #print(chr)\n",
        "\n",
        "        else:\n",
        "            encrypted_chr = chr\n",
        "        encrypted_text +=encrypted_chr\n",
        "\n",
        "    return encrypted_text\n",
        "\n",
        "\n",
        "\n",
        "main()\n",
        "\n",
        "\n",
        "\n",
        "\n"
      ]
    }
  ]
}
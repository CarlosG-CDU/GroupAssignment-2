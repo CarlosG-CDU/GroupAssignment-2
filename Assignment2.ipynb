{
  "nbformat": 4,
  "nbformat_minor": 0,
  "metadata": {
    "colab": {
      "provenance": [],
      "authorship_tag": "ABX9TyPlgfc1AhbJWhYGWV9ngu46",
      "include_colab_link": true
    },
    "kernelspec": {
      "name": "python3",
      "display_name": "Python 3"
    },
    "language_info": {
      "name": "python"
    }
  },
  "cells": [
    {
      "cell_type": "markdown",
      "metadata": {
        "id": "view-in-github",
        "colab_type": "text"
      },
      "source": [
        "<a href=\"https://colab.research.google.com/github/CarlosG-CDU/GroupAssignment-2/blob/main/Assignment2.ipynb\" target=\"_parent\"><img src=\"https://colab.research.google.com/assets/colab-badge.svg\" alt=\"Open In Colab\"/></a>"
      ]
    },
    {
      "cell_type": "code",
      "execution_count": 16,
      "metadata": {
        "colab": {
          "base_uri": "https://localhost:8080/"
        },
        "id": "OcMH-oC-ZsWm",
        "outputId": "06562ad5-8aaa-4e95-d5ad-7360b597538c"
      },
      "outputs": [
        {
          "output_type": "stream",
          "name": "stdout",
          "text": [
            "Enter the value for shift 1: 1\n",
            "Enter the value for shift 2: 2\n",
            "File contents:\n",
            "The quick brown fox jumps over the lazy dog beneath the shady willows. The dog, startled from his peaceful afternoon nap, quickly rises and chases after the mischievous fox. \n",
            "\n",
            "<<<Through vibrant meadows and past buzzing beehives they race, disturbing a flock of quails that scatter into the crisp autumn sky.>>> The fox, quite pleased with his clever prank, dashes into his cozy underground den while the dog, now exhausted from the zealous pursuit, returns to his favorite spot under the whispering branches to resume his quiet slumber.\n"
          ]
        }
      ],
      "source": [
        "\n",
        "\n",
        "def main():\n",
        "  shift1 = int(input(\"Enter the value for shift 1: \"))\n",
        "  shift2 = int(input(\"Enter the value for shift 2: \"))\n",
        "  encrypt()\n",
        "\n",
        "\n",
        "\n",
        "\n",
        "def encrypt():\n",
        "\n",
        "  #Read .txt file raw_text.txt\n",
        "  #/content/raw_text.txt\n",
        "  file_path = \"/content/raw_text.txt\"\n",
        "\n",
        "  try:\n",
        "      with open(file_path, 'r') as file:\n",
        "        content = file.read()\n",
        "        print(\"File contents:\")\n",
        "        print(content)\n",
        "  except FileNotFoundError:\n",
        "    print(f\"Error: The file at {file_path} was not found.\")\n",
        "\n",
        "\n",
        "\n",
        "\n",
        "\n",
        "\n",
        "main()\n",
        "#print(shift1)\n",
        "#print(shift2)\n",
        "\n"
      ]
    }
  ]
}
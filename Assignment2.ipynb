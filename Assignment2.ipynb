{
  "nbformat": 4,
  "nbformat_minor": 0,
  "metadata": {
    "colab": {
      "provenance": [],
      "authorship_tag": "ABX9TyOVVZrXrfPgomQgP6/i8O9A",
      "include_colab_link": true
    },
    "kernelspec": {
      "name": "python3",
      "display_name": "Python 3"
    },
    "language_info": {
      "name": "python"
    }
  },
  "cells": [
    {
      "cell_type": "markdown",
      "metadata": {
        "id": "view-in-github",
        "colab_type": "text"
      },
      "source": [
        "<a href=\"https://colab.research.google.com/github/CarlosG-CDU/GroupAssignment-2/blob/main/Assignment2.ipynb\" target=\"_parent\"><img src=\"https://colab.research.google.com/assets/colab-badge.svg\" alt=\"Open In Colab\"/></a>"
      ]
    },
    {
      "cell_type": "code",
      "execution_count": null,
      "metadata": {
        "colab": {
          "base_uri": "https://localhost:8080/"
        },
        "id": "OcMH-oC-ZsWm",
        "outputId": "9d434bb8-3dad-4665-cc1b-3e20948f5bb3"
      },
      "outputs": [
        {
          "output_type": "stream",
          "name": "stdout",
          "text": [
            "Enter the value for shift 1: 7\n",
            "Enter the value for shift 2: 5\n",
            "Encrypted text has been written to /content/raw_text.txt\n",
            "hello\n"
          ]
        }
      ],
      "source": [
        "main()\n",
        "\n",
        "def main():\n",
        "  shift1 = int(input(\"Enter the value for shift 1: \"))\n",
        "  shift2 = int(input(\"Enter the value for shift 2: \"))\n",
        "  encrypted_text = encrypt(shift1, shift2)   #capturn the return value for later use\n",
        "  #print(\"Encrypted text: \", encrypted_text)\n",
        "  #print(\"Shift 1 is: \", shift1)\n",
        "  #print(\"Shift 2 is: \", shift2)\n",
        "  decrypt(encrypted_text, shift1, shift2)\n",
        "\n",
        "\n",
        "##############################################\n",
        "# ENCRYPTION FUNCTION BELOW\n",
        "##############################################\n",
        "\n",
        "def encrypt(shift1, shift2):\n",
        "    #print(\"Shift1 = \", shift1)\n",
        "    #print(\"Shift2 = \", shift2)\n",
        "    #Read .txt file raw_text.txt\n",
        "    #/content/raw_text.txt\n",
        "    file_path = \"/content/raw_text.txt\"\n",
        "\n",
        "    try:                                      #https://www.w3schools.com/python/python_file_open.asp\n",
        "        with open(file_path, 'r') as file:\n",
        "            content = file.read()\n",
        "            #print(\"File contents:\")\n",
        "            #print(content)\n",
        "    except FileNotFoundError:\n",
        "        print(f\"Error: The file at {file_path} was not found.\")\n",
        "        return\"\"\n",
        "\n",
        "    #find lower case letters a-z and upper case A-Z\n",
        "    #do nothing if not a letter\n",
        "    lowercase = \"abcdefghijklmnopqrstuvwxyz\"\n",
        "    uppercase = \"ABCDEFGHIJKLMNOPQRSTUVWXYZ\"\n",
        "    low_a_m = \"abcdefghijklm\"\n",
        "    low_n_z = \"nopqrstuvwxyz\"\n",
        "    uppr_A_M = \"ABCDEFGHIJKLM\"\n",
        "    uppr_N_Z = \"NOPQRSTUVWXYZ\"\n",
        "\n",
        "    encrypted_text = \"\"\n",
        "\n",
        "    for chr in content:\n",
        "        if chr in lowercase:\n",
        "            if chr in low_a_m:\n",
        "                index = (lowercase.index(chr) + (shift1 * shift2)) % 26\n",
        "                encrypted_chr = lowercase[index]\n",
        "                #print(chr)\n",
        "            else: #where sitting between n-z\n",
        "                index = (lowercase.index(chr) - (shift1 + shift2)) % 26\n",
        "                encrypted_chr = lowercase[index]\n",
        "                #print(chr)\n",
        "        elif chr in uppercase:\n",
        "            if chr in uppr_A_M:\n",
        "                index = (uppercase.index(chr) - shift1) % 26\n",
        "                encrypted_chr = uppercase[index]\n",
        "                #print(chr)\n",
        "            else: # else N-Z\n",
        "                index = (uppercase.index(chr) + (shift2 * shift2)) % 26\n",
        "                encrypted_chr = uppercase[index]\n",
        "                #print(chr)\n",
        "\n",
        "        else: # its either a space, spec char or number. allow to fall through\n",
        "            encrypted_chr = chr\n",
        "        encrypted_text +=encrypted_chr\n",
        "\n",
        "    #return encrypted_text #used for debugging\n",
        "    #return shift1, shift2 #use these later to decrypt\n",
        "\n",
        "    #Overwite the original file with the encrypted text\n",
        "    output_file_path = \"/content/raw_text.txt\"\n",
        "    try:\n",
        "        with open(output_file_path, 'w') as output_file:\n",
        "            output_file.write(encrypted_text)\n",
        "        print(f\"Encrypted text has been written to {output_file_path}\")\n",
        "    except FileNotFoundError:\n",
        "        print(f\"Error: The file at {file_path} was not found.\")\n",
        "        #return\"\"\n",
        "\n",
        "###############################################\n",
        "# DECRYPTION FUNCTION\n",
        "###############################################\n",
        "def decrypt(encrypted_text, shift1, shift2):\n",
        "  print(\"hello\")\n",
        "\n",
        "  print(\"Shift 1 is: \", shift1)\n",
        "  print(\"Shift 2 is: \", shift2)\n",
        "\n",
        "\n",
        "\n",
        "\n",
        "\n",
        "\n",
        "\n",
        "\n"
      ]
    }
  ]
}
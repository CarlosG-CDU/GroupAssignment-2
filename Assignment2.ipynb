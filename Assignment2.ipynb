{
  "nbformat": 4,
  "nbformat_minor": 0,
  "metadata": {
    "colab": {
      "provenance": [],
      "authorship_tag": "ABX9TyNrzZTwckoLhkLtQLxG52ph",
      "include_colab_link": true
    },
    "kernelspec": {
      "name": "python3",
      "display_name": "Python 3"
    },
    "language_info": {
      "name": "python"
    }
  },
  "cells": [
    {
      "cell_type": "markdown",
      "metadata": {
        "id": "view-in-github",
        "colab_type": "text"
      },
      "source": [
        "<a href=\"https://colab.research.google.com/github/CarlosG-CDU/GroupAssignment-2/blob/main/Assignment2.ipynb\" target=\"_parent\"><img src=\"https://colab.research.google.com/assets/colab-badge.svg\" alt=\"Open In Colab\"/></a>"
      ]
    },
    {
      "cell_type": "code",
      "execution_count": 20,
      "metadata": {
        "colab": {
          "base_uri": "https://localhost:8080/"
        },
        "id": "OcMH-oC-ZsWm",
        "outputId": "ebd674fd-b30b-4587-fc6e-e0c0af41f053"
      },
      "outputs": [
        {
          "output_type": "stream",
          "name": "stdout",
          "text": [
            "Enter the value for shift 1: 1\n",
            "Enter the value for shift 2: 1\n",
            "b\n",
            "c\n",
            "d\n",
            "e\n",
            "f\n",
            "g\n",
            "h\n"
          ]
        }
      ],
      "source": [
        "\n",
        "\n",
        "def main():\n",
        "  shift1 = int(input(\"Enter the value for shift 1: \"))\n",
        "  shift2 = int(input(\"Enter the value for shift 2: \"))\n",
        "  encrypt()\n",
        "\n",
        "\n",
        "\n",
        "\n",
        "def encrypt():\n",
        "\n",
        "  #Read .txt file raw_text.txt\n",
        "  #/content/raw_text.txt\n",
        "  file_path = \"/content/raw_text.txt\"\n",
        "\n",
        "  try:\n",
        "      with open(file_path, 'r') as file:\n",
        "        content = file.read()\n",
        "        #print(\"File contents:\")\n",
        "        #print(content)\n",
        "  except FileNotFoundError:\n",
        "    print(f\"Error: The file at {file_path} was not found.\")\n",
        "  #find lower case letters a-m\n",
        "  low_a_m = \"abcdefghijklm\"\n",
        "  low_n_z = \"nopqrstuvwxyz\"\n",
        "\n",
        "  for chr in content:\n",
        "    if chr in low_a_m:\n",
        "      chr = chr.replace(chr, low_a_m[low_a_m.index(chr) + shift1])\n",
        "      print(chr)\n",
        "    elif chr in low_n_z:\n",
        "      chr = chr.replace(chr, low_n_z[low_n_z.index(chr) + shift1])\n",
        "      print(chr)\n",
        "\n",
        "\n",
        "\n",
        "  #find upper case letters A-M\n",
        "  up_A_M = \"ABCDEFGHIJKLM\"\n",
        "  up_N_Z = \"NOPQRSTUVWXYZ\"\n",
        "\n",
        "\n",
        "\n",
        "\n",
        "\n",
        "main()\n",
        "#print(shift1)\n",
        "#print(shift2)\n",
        "\n"
      ]
    }
  ]
}
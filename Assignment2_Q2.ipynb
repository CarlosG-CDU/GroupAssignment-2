{
  "nbformat": 4,
  "nbformat_minor": 0,
  "metadata": {
    "colab": {
      "provenance": [],
      "authorship_tag": "ABX9TyN0hKnugSRsOMuC8yp2s6I5",
      "include_colab_link": true
    },
    "kernelspec": {
      "name": "python3",
      "display_name": "Python 3"
    },
    "language_info": {
      "name": "python"
    }
  },
  "cells": [
    {
      "cell_type": "markdown",
      "metadata": {
        "id": "view-in-github",
        "colab_type": "text"
      },
      "source": [
        "<a href=\"https://colab.research.google.com/github/CarlosG-CDU/GroupAssignment-2/blob/main/Assignment2_Q2.ipynb\" target=\"_parent\"><img src=\"https://colab.research.google.com/assets/colab-badge.svg\" alt=\"Open In Colab\"/></a>"
      ]
    },
    {
      "cell_type": "code",
      "execution_count": null,
      "metadata": {
        "colab": {
          "base_uri": "https://localhost:8080/"
        },
        "id": "6k83uJg6E3fO",
        "outputId": "4491a8f5-8e76-424e-c417-19ea550eabce"
      },
      "outputs": [
        {
          "output_type": "stream",
          "name": "stdout",
          "text": [
            "saved to output.csv\n",
            "1992\n",
            "1990\n",
            "2001\n",
            "2003\n",
            "1998\n",
            "1997\n",
            "1993\n",
            "1991\n",
            "2004\n",
            "2000\n",
            "1986\n",
            "1988\n",
            "1999\n",
            "1994\n",
            "1995\n",
            "1987\n",
            "2002\n",
            "2005\n",
            "1996\n",
            "1989\n"
          ]
        }
      ],
      "source": [
        "#Group Assignment 2\n",
        "#DAN/EXT 05 - Group 20\n",
        "#Question 2\n",
        "#Carlos Galli S365408\n",
        "#Lauren Whitford S373432\n",
        "#Cody Old S392352\n",
        "\n",
        "\n",
        "\n",
        "#import pandas\n",
        "#csvFile = pandas.read_csv('/content/stations_group_1986.csv')\n",
        "#print(csvFile)\n",
        "\n",
        "import os\n",
        "import pandas as pd\n",
        "import glob\n",
        "\n",
        "##############################\n",
        "#Join all the data together in one big bucket\n",
        "\n",
        "csv_files = glob.glob('/content/temperatures/*.csv')  #ignore the year at the end\n",
        "\n",
        "combine_df = pd.DataFrame()\n",
        "\n",
        "for csv_file in csv_files:\n",
        "    df = pd.read_csv(csv_file)\n",
        "    combine_df = pd.concat([combine_df, df], ignore_index = True)\n",
        "\n",
        "combine_df.to_csv(\"/content/output.csv\", index = False)\n",
        "print(\"saved to output.csv\")\n",
        "\n",
        "###############################\n",
        "#pull the year from the file name\n",
        "temperatures_folder = os.path.basename(('/content/temperatures'))\n",
        "\n",
        "files = os.listdir(temperatures_folder)\n",
        "\n",
        "for file in files:\n",
        "    if file.endswith(\".csv\"): #just in case\n",
        "      year = file[-8:-4]  #pull out the year\n",
        "      print(year)\n",
        "\n",
        "\n"
      ]
    },
    {
      "cell_type": "code",
      "source": [
        "from google.colab import drive\n",
        "drive.mount('/content/drive')"
      ],
      "metadata": {
        "colab": {
          "base_uri": "https://localhost:8080/"
        },
        "id": "WtyVPM4PKqr0",
        "outputId": "6eb0520c-e00b-4571-c7b0-f0650c737d99"
      },
      "execution_count": null,
      "outputs": [
        {
          "output_type": "stream",
          "name": "stdout",
          "text": [
            "Mounted at /content/drive\n"
          ]
        }
      ]
    }
  ]
}
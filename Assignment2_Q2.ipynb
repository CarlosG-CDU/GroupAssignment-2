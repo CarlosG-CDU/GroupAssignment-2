{
  "nbformat": 4,
  "nbformat_minor": 0,
  "metadata": {
    "colab": {
      "provenance": [],
      "authorship_tag": "ABX9TyMxrnPFpEmeQ5N6MfM+HaTO",
      "include_colab_link": true
    },
    "kernelspec": {
      "name": "python3",
      "display_name": "Python 3"
    },
    "language_info": {
      "name": "python"
    }
  },
  "cells": [
    {
      "cell_type": "markdown",
      "metadata": {
        "id": "view-in-github",
        "colab_type": "text"
      },
      "source": [
        "<a href=\"https://colab.research.google.com/github/CarlosG-CDU/GroupAssignment-2/blob/main/Assignment2_Q2.ipynb\" target=\"_parent\"><img src=\"https://colab.research.google.com/assets/colab-badge.svg\" alt=\"Open In Colab\"/></a>"
      ]
    },
    {
      "cell_type": "code",
      "execution_count": 3,
      "metadata": {
        "colab": {
          "base_uri": "https://localhost:8080/"
        },
        "id": "6k83uJg6E3fO",
        "outputId": "9df4ea7b-ddd5-45a3-ff88-f57e1ad05baa"
      },
      "outputs": [
        {
          "output_type": "stream",
          "name": "stdout",
          "text": [
            "                      STATION_NAME  STN_ID    LAT     LON  January  February  \\\n",
            "0               ADELAIDE-KENT-TOWN   23090 -34.92  138.62    31.48     31.37   \n",
            "1        ALBANY-AIRPORT-COMPARISON    9741 -34.94  117.80    25.24     26.03   \n",
            "2            ALICE-SPRINGS-AIRPORT   15590 -23.80  133.89    38.40     37.32   \n",
            "3                     AMBERLEY-AMO   40004 -27.63  152.71    32.90     31.87   \n",
            "4           BARCALDINE-POST-OFFICE   36007 -23.55  145.29    38.03     36.21   \n",
            "..                             ...     ...    ...     ...      ...       ...   \n",
            "107  WILSONS-PROMONTORY-LIGHTHOUSE   85096 -39.13  146.42    22.19     22.25   \n",
            "108                      WITTENOOM    5026 -22.24  118.34    40.62     38.02   \n",
            "109              WOOMERA-AERODROME   16001 -31.16  136.81    35.45     35.13   \n",
            "110            WYALONG-POST-OFFICE   73054 -33.93  147.24    33.72     33.43   \n",
            "111            YAMBA-PILOT-STATION   58012 -29.43  153.36    29.40     29.17   \n",
            "\n",
            "     March  April    May   June   July  August  September  October  November  \\\n",
            "0    28.12  24.81  21.28  17.92  17.20   17.87      20.54    22.98     26.65   \n",
            "1    25.45  23.50  20.55  18.00  16.95   17.02      18.34    19.52     21.85   \n",
            "2    35.35  31.37  25.18  21.06  20.52   23.71      29.07    31.41     34.38   \n",
            "3    31.21  29.20  26.06  23.38  22.88   24.12      27.58    29.50     31.04   \n",
            "4    35.41  31.73  27.46  25.21  24.64   26.46      30.75    34.13     35.93   \n",
            "..     ...    ...    ...    ...    ...     ...        ...      ...       ...   \n",
            "107  20.86  19.07  17.29  15.05  14.47   14.59      15.73    17.32     18.91   \n",
            "108  37.60  33.93  29.27  25.44  25.72   27.94      32.95    37.49     39.21   \n",
            "109  31.79  26.48  22.15  18.31  18.00   19.49      23.99    27.55     30.59   \n",
            "110  30.03  25.36  19.98  15.97  15.04   16.52      20.66    24.48     28.58   \n",
            "111  28.16  26.94  24.43  22.77  21.91   23.40      25.16    27.03     26.87   \n",
            "\n",
            "     December  \n",
            "0       28.38  \n",
            "1       23.75  \n",
            "2       36.06  \n",
            "3       32.28  \n",
            "4       37.41  \n",
            "..        ...  \n",
            "107     20.16  \n",
            "108     40.85  \n",
            "109     32.68  \n",
            "110     31.55  \n",
            "111     28.54  \n",
            "\n",
            "[112 rows x 16 columns]\n"
          ]
        }
      ],
      "source": [
        "import pandas\n",
        "csvFile = pandas.read_csv('/content/stations_group_1986.csv')\n",
        "print(csvFile)\n",
        "\n",
        "\n",
        ""
      ]
    }
  ]
}
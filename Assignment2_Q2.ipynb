{
  "nbformat": 4,
  "nbformat_minor": 0,
  "metadata": {
    "colab": {
      "provenance": [],
      "authorship_tag": "ABX9TyNR2JxuTnMWncrN8YES3OUa",
      "include_colab_link": true
    },
    "kernelspec": {
      "name": "python3",
      "display_name": "Python 3"
    },
    "language_info": {
      "name": "python"
    }
  },
  "cells": [
    {
      "cell_type": "markdown",
      "metadata": {
        "id": "view-in-github",
        "colab_type": "text"
      },
      "source": [
        "<a href=\"https://colab.research.google.com/github/CarlosG-CDU/GroupAssignment-2/blob/main/Assignment2_Q2.ipynb\" target=\"_parent\"><img src=\"https://colab.research.google.com/assets/colab-badge.svg\" alt=\"Open In Colab\"/></a>"
      ]
    },
    {
      "cell_type": "code",
      "execution_count": 3,
      "metadata": {
        "colab": {
          "base_uri": "https://localhost:8080/"
        },
        "id": "6k83uJg6E3fO",
        "outputId": "bb0d88a7-e309-45b7-af8c-8eb62f67a1da"
      },
      "outputs": [
        {
          "output_type": "stream",
          "name": "stdout",
          "text": [
            "stations_group_1999.csv\n",
            "1999\n",
            "stations_group_1991.csv\n",
            "1991\n",
            "stations_group_1994.csv\n",
            "1994\n",
            "stations_group_1990.csv\n",
            "1990\n",
            "stations_group_2000.csv\n",
            "2000\n",
            "stations_group_2002.csv\n",
            "2002\n",
            "stations_group_2004.csv\n",
            "2004\n",
            "stations_group_1987.csv\n",
            "1987\n",
            "stations_group_1995.csv\n",
            "1995\n",
            "stations_group_1997.csv\n",
            "1997\n",
            "stations_group_1993.csv\n",
            "1993\n",
            "stations_group_1992.csv\n",
            "1992\n",
            "stations_group_1996.csv\n",
            "1996\n",
            "stations_group_1988.csv\n",
            "1988\n",
            "stations_group_1986.csv\n",
            "1986\n",
            "stations_group_2003.csv\n",
            "2003\n",
            "stations_group_2005.csv\n",
            "2005\n",
            "stations_group_1989.csv\n",
            "1989\n",
            "stations_group_1998.csv\n",
            "1998\n",
            "stations_group_2001.csv\n",
            "2001\n",
            "saved to output.csv\n"
          ]
        }
      ],
      "source": [
        "#Group Assignment 2\n",
        "#DAN/EXT 05 - Group 20\n",
        "#Question 2\n",
        "#Carlos Galli S365408\n",
        "#Lauren Whitford S373432\n",
        "#Cody Old S392352\n",
        "\n",
        "\n",
        "\n",
        "#import pandas\n",
        "#csvFile = pandas.read_csv('/content/stations_group_1986.csv')\n",
        "#print(csvFile)\n",
        "\n",
        "import os\n",
        "import pandas as pd\n",
        "import glob\n",
        "import os\n",
        "import re\n",
        "\n",
        "##############################\n",
        "#Join all the data together in one big bucket\n",
        "\n",
        "csv_files = glob.glob('/content/temperatures/*.csv')  #ignore the year at the end\n",
        "\n",
        "combine_df = pd.DataFrame()\n",
        "\n",
        "for csv_file in csv_files:\n",
        "    filename = os.path.basename(csv_file)   #get the file name\n",
        "    print(filename)\n",
        "##############################\n",
        "#find the year in file name and place in new colum for each data block\n",
        "\n",
        "    match = re.search(r'(\\d{4})', filename)   #looking for 4 digits, ie the YEAR\n",
        "    year = match.group(1) if match else None\n",
        "    print(year)\n",
        "\n",
        "    df = pd.read_csv(csv_file)  #read and store the the csv file to add the year column\n",
        "    df[\"Year\"] = year   # place each year in the \"YEAR\" column\n",
        "    combine_df = pd.concat([combine_df, df], ignore_index = True) #add to combined DataFrame\n",
        "\n",
        "combine_df = combine_df.sort_values(by = \"Year\").reset_index(drop=True)\n",
        "\n",
        "combine_df.to_csv(\"/content/output.csv\", index = False)\n",
        "print(\"saved to output.csv\")\n",
        "\n",
        "\n"
      ]
    },
    {
      "cell_type": "code",
      "source": [
        "from google.colab import drive\n",
        "drive.mount('/content/drive')"
      ],
      "metadata": {
        "colab": {
          "base_uri": "https://localhost:8080/"
        },
        "id": "WtyVPM4PKqr0",
        "outputId": "6eb0520c-e00b-4571-c7b0-f0650c737d99"
      },
      "execution_count": null,
      "outputs": [
        {
          "output_type": "stream",
          "name": "stdout",
          "text": [
            "Mounted at /content/drive\n"
          ]
        }
      ]
    }
  ]
}
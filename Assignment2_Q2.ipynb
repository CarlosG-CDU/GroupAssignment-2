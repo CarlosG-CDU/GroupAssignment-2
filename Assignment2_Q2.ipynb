{
  "nbformat": 4,
  "nbformat_minor": 0,
  "metadata": {
    "colab": {
      "provenance": [],
      "authorship_tag": "ABX9TyOs5P2aDQidDrMW1HW7TfED",
      "include_colab_link": true
    },
    "kernelspec": {
      "name": "python3",
      "display_name": "Python 3"
    },
    "language_info": {
      "name": "python"
    }
  },
  "cells": [
    {
      "cell_type": "markdown",
      "metadata": {
        "id": "view-in-github",
        "colab_type": "text"
      },
      "source": [
        "<a href=\"https://colab.research.google.com/github/CarlosG-CDU/GroupAssignment-2/blob/main/Assignment2_Q2.ipynb\" target=\"_parent\"><img src=\"https://colab.research.google.com/assets/colab-badge.svg\" alt=\"Open In Colab\"/></a>"
      ]
    },
    {
      "cell_type": "code",
      "execution_count": 10,
      "metadata": {
        "colab": {
          "base_uri": "https://localhost:8080/"
        },
        "id": "6k83uJg6E3fO",
        "outputId": "7a1dc3fb-346c-4a10-d981-b3e1251a33a3"
      },
      "outputs": [
        {
          "output_type": "stream",
          "name": "stdout",
          "text": [
            "stations_group_1999.csv\n",
            "1999\n",
            "stations_group_1991.csv\n",
            "1991\n",
            "stations_group_1994.csv\n",
            "1994\n",
            "stations_group_1990.csv\n",
            "1990\n",
            "stations_group_2000.csv\n",
            "2000\n",
            "stations_group_2002.csv\n",
            "2002\n",
            "stations_group_2004.csv\n",
            "2004\n",
            "stations_group_1987.csv\n",
            "1987\n",
            "stations_group_1995.csv\n",
            "1995\n",
            "stations_group_1997.csv\n",
            "1997\n",
            "stations_group_1993.csv\n",
            "1993\n",
            "stations_group_1996.csv\n",
            "1996\n",
            "stations_group_1988.csv\n",
            "1988\n",
            "stations_group_1986.csv\n",
            "1986\n",
            "stations_group_2003.csv\n",
            "2003\n",
            "stations_group_2005.csv\n",
            "2005\n",
            "stations_group_1989.csv\n",
            "1989\n",
            "stations_group_1998.csv\n",
            "1998\n",
            "stations_group_2001.csv\n",
            "2001\n",
            "saved to output.csv\n",
            "Summer: 32.1°C\n",
            "\n",
            "Autumn: 27.3°C\n",
            "\n",
            "Winter: 21.1°C\n",
            "\n",
            "Spring: 27.4°C\n",
            "\n"
          ]
        }
      ],
      "source": [
        "#Group Assignment 2\n",
        "#DAN/EXT 05 - Group 20\n",
        "#Question 2\n",
        "#Carlos Galli S365408\n",
        "#Lauren Whitford S373432\n",
        "#Cody Old S392352\n",
        "\n",
        "\n",
        "\n",
        "#import pandas\n",
        "#csvFile = pandas.read_csv('/content/stations_group_1986.csv')\n",
        "#print(csvFile)\n",
        "\n",
        "import os\n",
        "import pandas as pd\n",
        "import glob\n",
        "import os\n",
        "import re\n",
        "\n",
        "##############################\n",
        "#Join all the data together in one big bucket\n",
        "\n",
        "csv_files = glob.glob('/content/temperatures/*.csv')  #ignore the year at the end\n",
        "\n",
        "combine_df = pd.DataFrame()\n",
        "\n",
        "for csv_file in csv_files:\n",
        "    filename = os.path.basename(csv_file)   #get the file name\n",
        "    print(filename)\n",
        "##############################\n",
        "#find the year in file name and place in new colum for each data block\n",
        "\n",
        "    pattern = r'\\d{4}'\n",
        "    match = re.search(pattern, filename)\n",
        "    if match:\n",
        "        year = match.group()\n",
        "    else:\n",
        "        year = None\n",
        "    print(year)\n",
        "\n",
        "    df = pd.read_csv(csv_file)  #read and store the the csv file to add the year column\n",
        "    df[\"Year\"] = year   # place each year in the \"YEAR\" column\n",
        "    combine_df = pd.concat([combine_df, df], ignore_index = True) #add to combined DataFrame\n",
        "\n",
        "combine_df = combine_df.sort_values(by = \"Year\").reset_index(drop=True)\n",
        "\n",
        "combine_df.to_csv(\"/content/output.csv\", index = False)\n",
        "print(\"saved to output.csv\")\n",
        "\n",
        "#sort by year\n",
        "combine_df = combine_df.sort_values(by=\"Year\").reset_index(drop=True)\n",
        "\n",
        "################################\n",
        "#seasonal avg for all stations and years\n",
        "\n",
        "seasonal_avg = pd.DataFrame()\n",
        "seasonal_avg[\"Year\"] = combine_df[\"Year\"]\n",
        "\n",
        "summer_values = pd.concat([combine_df['December'], combine_df['January'], combine_df['February']])\n",
        "summer_avg = summer_values.mean().round(1)\n",
        "\n",
        "autumn_values = pd.concat([combine_df['March'], combine_df['April'], combine_df['May']])\n",
        "autumn_avg = autumn_values.mean().round(1)\n",
        "\n",
        "winter_values = pd.concat([combine_df['June'], combine_df['July'], combine_df['August']])\n",
        "winter_avg = winter_values.mean().round(1)\n",
        "\n",
        "spring_values = pd.concat([combine_df['September'], combine_df['October'], combine_df['November']])\n",
        "spring_avg = spring_values.mean().round(1)\n",
        "\n",
        "\n",
        "print(f\"Summer: {summer_avg}°C\\n\")  #debug\n",
        "print(f\"Autumn: {autumn_avg}°C\\n\")  #debug\n",
        "print(f\"Winter: {winter_avg}°C\\n\")  #debug\n",
        "print(f\"Spring: {spring_avg}°C\\n\")  #debug\n",
        "\n",
        "with open('/content/average_temp.txt', 'w') as f:   #save avg's to .txt as requested by Q1\n",
        "    f.write(f\"Summer: {summer_avg}°C\\n\")\n",
        "    f.write(f\"Autumn: {autumn_avg}°C\\n\")\n",
        "    f.write(f\"Winter: {winter_avg}°C\\n\")\n",
        "    f.write(f\"Spring: {spring_avg}°C\\n\")\n"
      ]
    },
    {
      "cell_type": "code",
      "source": [
        "from google.colab import drive\n",
        "drive.mount('/content/drive')"
      ],
      "metadata": {
        "colab": {
          "base_uri": "https://localhost:8080/"
        },
        "id": "WtyVPM4PKqr0",
        "outputId": "6eb0520c-e00b-4571-c7b0-f0650c737d99"
      },
      "execution_count": null,
      "outputs": [
        {
          "output_type": "stream",
          "name": "stdout",
          "text": [
            "Mounted at /content/drive\n"
          ]
        }
      ]
    }
  ]
}
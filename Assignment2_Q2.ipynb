{
  "nbformat": 4,
  "nbformat_minor": 0,
  "metadata": {
    "colab": {
      "provenance": [],
      "authorship_tag": "ABX9TyPQjUPadsoingzQi30MG20r",
      "include_colab_link": true
    },
    "kernelspec": {
      "name": "python3",
      "display_name": "Python 3"
    },
    "language_info": {
      "name": "python"
    }
  },
  "cells": [
    {
      "cell_type": "markdown",
      "metadata": {
        "id": "view-in-github",
        "colab_type": "text"
      },
      "source": [
        "<a href=\"https://colab.research.google.com/github/CarlosG-CDU/GroupAssignment-2/blob/main/Assignment2_Q2.ipynb\" target=\"_parent\"><img src=\"https://colab.research.google.com/assets/colab-badge.svg\" alt=\"Open In Colab\"/></a>"
      ]
    },
    {
      "cell_type": "code",
      "execution_count": 7,
      "metadata": {
        "colab": {
          "base_uri": "https://localhost:8080/"
        },
        "id": "6k83uJg6E3fO",
        "outputId": "194a7e9b-d836-4e40-94fb-1e113afce475"
      },
      "outputs": [
        {
          "output_type": "stream",
          "name": "stdout",
          "text": [
            "saved to output.csv\n",
            "1997\n",
            "1994\n",
            "2002\n",
            "2004\n",
            "1993\n",
            "2005\n",
            "1992\n",
            "1991\n",
            "1987\n",
            "1986\n",
            "1995\n",
            "1998\n",
            "1996\n",
            "1999\n",
            "1988\n",
            "2003\n",
            "1990\n",
            "2000\n",
            "1989\n",
            "2001\n"
          ]
        }
      ],
      "source": [
        "#import pandas\n",
        "#csvFile = pandas.read_csv('/content/stations_group_1986.csv')\n",
        "#print(csvFile)\n",
        "\n",
        "import os\n",
        "import pandas as pd\n",
        "import glob\n",
        "\n",
        "##############################\n",
        "#Join all the data together in one big bucket\n",
        "\n",
        "csv_files = glob.glob('/content/temperatures/*.csv')  #ignore the year at the end\n",
        "\n",
        "combine_df = pd.DataFrame()\n",
        "\n",
        "for csv_file in csv_files:\n",
        "    df = pd.read_csv(csv_file)\n",
        "    combine_df = pd.concat([combine_df, df], ignore_index = True)\n",
        "\n",
        "combine_df.to_csv(\"/content/output.csv\", index = False)\n",
        "print(\"saved to output.csv\")\n",
        "\n",
        "###############################\n",
        "#pull the year from the file name\n",
        "temperatures_folder = os.path.basename(('/content/temperatures'))\n",
        "\n",
        "files = os.listdir(temperatures_folder)\n",
        "\n",
        "for file in files:\n",
        "    if file.endswith(\".csv\"): #just in case\n",
        "      year = file[-8:-4]  #pull out the year\n",
        "      print(year)\n",
        "\n",
        "\n"
      ]
    },
    {
      "cell_type": "code",
      "source": [
        "from google.colab import drive\n",
        "drive.mount('/content/drive')"
      ],
      "metadata": {
        "colab": {
          "base_uri": "https://localhost:8080/"
        },
        "id": "WtyVPM4PKqr0",
        "outputId": "6eb0520c-e00b-4571-c7b0-f0650c737d99"
      },
      "execution_count": null,
      "outputs": [
        {
          "output_type": "stream",
          "name": "stdout",
          "text": [
            "Mounted at /content/drive\n"
          ]
        }
      ]
    }
  ]
}